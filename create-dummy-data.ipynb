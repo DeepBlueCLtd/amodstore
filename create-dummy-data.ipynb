{
 "cells": [
  {
   "cell_type": "code",
   "execution_count": 44,
   "metadata": {},
   "outputs": [],
   "source": [
    "# Create dummy data\n",
    "from pathlib import Path\n",
    "import numpy as np\n",
    "import geopandas as gpd\n",
    "import rasterio as rio\n",
    "from rasterio.profiles import DefaultGTiffProfile\n",
    "\n",
    "from shapely.geometry import box\n",
    "\n",
    "from pyproj import CRS"
   ]
  },
  {
   "cell_type": "code",
   "execution_count": 62,
   "metadata": {},
   "outputs": [],
   "source": [
    "prof = DefaultGTiffProfile()"
   ]
  },
  {
   "cell_type": "code",
   "execution_count": 63,
   "metadata": {},
   "outputs": [
    {
     "data": {
      "image/svg+xml": [
       "<svg xmlns=\"http://www.w3.org/2000/svg\" xmlns:xlink=\"http://www.w3.org/1999/xlink\" width=\"100.0\" height=\"100.0\" viewBox=\"-2.16 -2.16 4.32 4.32\" preserveAspectRatio=\"xMinYMin meet\"><g transform=\"matrix(1,0,0,-1,0,0.0)\"><path fill-rule=\"evenodd\" fill=\"#66cc99\" stroke=\"#555555\" stroke-width=\"0.0864\" opacity=\"0.6\" d=\"M 2.0,-2.0 L 2.0,2.0 L -2.0,2.0 L -2.0,-2.0 L 2.0,-2.0 z\" /></g></svg>"
      ],
      "text/plain": [
       "<POLYGON ((2 -2, 2 2, -2 2, -2 -2, 2 -2))>"
      ]
     },
     "execution_count": 63,
     "metadata": {},
     "output_type": "execute_result"
    }
   ],
   "source": [
    "bounds = -2, -2, 2, 2\n",
    "box(*bounds)"
   ]
  },
  {
   "cell_type": "code",
   "execution_count": 64,
   "metadata": {},
   "outputs": [],
   "source": [
    "xmin, ymin, xmax, ymax = bounds"
   ]
  },
  {
   "cell_type": "code",
   "execution_count": 65,
   "metadata": {},
   "outputs": [
    {
     "name": "stdout",
     "output_type": "stream",
     "text": [
      "\u001b[0;31mSignature:\u001b[0m \u001b[0mrio\u001b[0m\u001b[0;34m.\u001b[0m\u001b[0mtransform\u001b[0m\u001b[0;34m.\u001b[0m\u001b[0mfrom_bounds\u001b[0m\u001b[0;34m(\u001b[0m\u001b[0mwest\u001b[0m\u001b[0;34m,\u001b[0m \u001b[0msouth\u001b[0m\u001b[0;34m,\u001b[0m \u001b[0meast\u001b[0m\u001b[0;34m,\u001b[0m \u001b[0mnorth\u001b[0m\u001b[0;34m,\u001b[0m \u001b[0mwidth\u001b[0m\u001b[0;34m,\u001b[0m \u001b[0mheight\u001b[0m\u001b[0;34m)\u001b[0m\u001b[0;34m\u001b[0m\u001b[0;34m\u001b[0m\u001b[0m\n",
      "\u001b[0;31mDocstring:\u001b[0m\n",
      "Return an Affine transformation given bounds, width and height.\n",
      "\n",
      "Return an Affine transformation for a georeferenced raster given\n",
      "its bounds `west`, `south`, `east`, `north` and its `width` and\n",
      "`height` in number of pixels.\n",
      "\u001b[0;31mFile:\u001b[0m      ~/miniforge3/envs/geo/lib/python3.12/site-packages/rasterio/transform.py\n",
      "\u001b[0;31mType:\u001b[0m      function"
     ]
    }
   ],
   "source": [
    "?rio.transform.from_bounds"
   ]
  },
  {
   "cell_type": "code",
   "execution_count": 66,
   "metadata": {},
   "outputs": [
    {
     "data": {
      "text/plain": [
       "KeysView({'driver': 'GTiff', 'interleave': 'band', 'tiled': True, 'blockxsize': 256, 'blockysize': 256, 'compress': 'lzw', 'nodata': 0, 'dtype': 'uint8'})"
      ]
     },
     "execution_count": 66,
     "metadata": {},
     "output_type": "execute_result"
    }
   ],
   "source": [
    "prof.keys()"
   ]
  },
  {
   "cell_type": "code",
   "execution_count": 55,
   "metadata": {},
   "outputs": [],
   "source": [
    "bnds = []\n",
    "shp = (1,10,10)\n",
    "out_dir = Path('./data')\n",
    "\n",
    "prof.update({\n",
    "    'blockxsize': 16,\n",
    "    'blockysize': 16,\n",
    "    'crs':CRS.from_epsg(4326),\n",
    "    'width':shp[2],\n",
    "    'height':shp[1],\n",
    "    'count':shp[0],\n",
    "})\n",
    "\n",
    "i = 0\n",
    "for x in range(xmin, xmax):\n",
    "    for y in range(ymin, ymax):\n",
    "        i+=1\n",
    "        bnds.append(box(x, y, x+0.9999999, y+0.9999999))\n",
    "        prof.update({\n",
    "            'transform':rio.transform.from_bounds(\n",
    "                x, y, x+0.9999999, y+0.9999999, shp[2], shp[1],\n",
    "            ),\n",
    "        })\n",
    "        with rio.open(out_dir/f\"x{x}_y{y}.tif\", 'w', **prof) as dst:\n",
    "            dst.write(np.full(shp, i, dtype=np.uint8))"
   ]
  },
  {
   "cell_type": "code",
   "execution_count": 60,
   "metadata": {},
   "outputs": [
    {
     "data": {
      "text/plain": [
       "<Axes: >"
      ]
     },
     "execution_count": 60,
     "metadata": {},
     "output_type": "execute_result"
    },
    {
     "data": {
      "image/png": "[encoded data removed]",
      "text/plain": [
       "<Figure size 640x480 with 1 Axes>"
      ]
     },
     "metadata": {},
     "output_type": "display_data"
    }
   ],
   "source": [
    "gpd.GeoDataFrame(\n",
    "    {'value':list(range(1, len(bnds)+1))},\n",
    "    geometry=bnds,\n",
    ").plot(column='value')"
   ]
  }
 ],
 "metadata": {
  "kernelspec": {
   "display_name": "geo",
   "language": "python",
   "name": "python3"
  },
  "language_info": {
   "codemirror_mode": {
    "name": "ipython",
    "version": 3
   },
   "file_extension": ".py",
   "mimetype": "text/x-python",
   "name": "python",
   "nbconvert_exporter": "python",
   "pygments_lexer": "ipython3",
   "version": "3.12.3"
  }
 },
 "nbformat": 4,
 "nbformat_minor": 2
}
