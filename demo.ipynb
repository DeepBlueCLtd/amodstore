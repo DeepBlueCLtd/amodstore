{
 "cells": [
  {
   "cell_type": "code",
   "execution_count": 1,
   "id": "a4b245b1-aa8d-43e1-b2e4-e45a621fc74f",
   "metadata": {},
   "outputs": [],
   "source": [
    "# Using owslib from conda-forge\n",
    "import owslib"
   ]
  },
  {
   "cell_type": "code",
   "execution_count": 3,
   "id": "76ac528b-567e-4f33-b9b8-381b5ae68b4f",
   "metadata": {},
   "outputs": [
    {
     "data": {
      "text/plain": [
       "'0.32.0'"
      ]
     },
     "execution_count": 3,
     "metadata": {},
     "output_type": "execute_result"
    }
   ],
   "source": [
    "owslib.__version__"
   ]
  },
  {
   "cell_type": "code",
   "execution_count": null,
   "id": "c3e1a0ca-9461-4566-b6d0-131ec4f7e362",
   "metadata": {},
   "outputs": [],
   "source": [
    "# Default docker image\n",
    "\n",
    "#docker run --rm -p 5000:80 geopython/pygeoapi:latest"
   ]
  },
  {
   "cell_type": "code",
   "execution_count": null,
   "id": "2baff96b-fdde-4e61-90f6-8e1652698cb4",
   "metadata": {},
   "outputs": [],
   "source": [
    "#curl -O https://raw.githubusercontent.com/geopython/pygeoapi/master/docker/default.config.yml"
   ]
  },
  {
   "cell_type": "code",
   "execution_count": null,
   "id": "790d7623-d301-4e25-8fd0-457faaca0509",
   "metadata": {},
   "outputs": [],
   "source": [
    "# Replace the docker default config file with a local config file\n",
    "#docker run -p 5000:80 -v $(pwd)/default.config.yml:/pygeoapi/local.config.yml geopython/pygeoapi:latest\n",
    "\n",
    "# In the above snippet, $(pwd) indicates the working folder from which you start the Docker container."
   ]
  },
  {
   "cell_type": "code",
   "execution_count": null,
   "id": "55664986-a6a3-4db2-9be7-38ec900090b6",
   "metadata": {},
   "outputs": [],
   "source": []
  }
 ],
 "metadata": {
  "kernelspec": {
   "display_name": "Python 3 (ipykernel)",
   "language": "python",
   "name": "python3"
  },
  "language_info": {
   "codemirror_mode": {
    "name": "ipython",
    "version": 3
   },
   "file_extension": ".py",
   "mimetype": "text/x-python",
   "name": "python",
   "nbconvert_exporter": "python",
   "pygments_lexer": "ipython3",
   "version": "3.13.0"
  }
 },
 "nbformat": 4,
 "nbformat_minor": 5
}
